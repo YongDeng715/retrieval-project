{
 "cells": [
  {
   "cell_type": "markdown",
   "metadata": {},
   "source": [
    "code reference: https://huggingface.co/docs/transformers/model_doc/dinov2;\n",
    "https://github.com/vra/dinov2-retrieval;"
   ]
  },
  {
   "cell_type": "code",
   "execution_count": 2,
   "metadata": {},
   "outputs": [
    {
     "name": "stderr",
     "output_type": "stream",
     "text": [
      "d:\\Code\\Anaconda\\envs\\myenv\\lib\\site-packages\\tqdm\\auto.py:21: TqdmWarning: IProgress not found. Please update jupyter and ipywidgets. See https://ipywidgets.readthedocs.io/en/stable/user_install.html\n",
      "  from .autonotebook import tqdm as notebook_tqdm\n"
     ]
    },
    {
     "name": "stdout",
     "output_type": "stream",
     "text": [
      "Current Device: cpu\n"
     ]
    },
    {
     "name": "stderr",
     "output_type": "stream",
     "text": [
      "d:\\Code\\Anaconda\\envs\\myenv\\lib\\site-packages\\huggingface_hub\\file_download.py:157: UserWarning: `huggingface_hub` cache-system uses symlinks by default to efficiently store duplicated files but your machine does not support them in C:\\Users\\13476\\.cache\\huggingface\\hub\\models--facebook--dinov2-small. Caching files will still work but in a degraded version that might require more space on your disk. This warning can be disabled by setting the `HF_HUB_DISABLE_SYMLINKS_WARNING` environment variable. For more details, see https://huggingface.co/docs/huggingface_hub/how-to-cache#limitations.\n",
      "To support symlinks on Windows, you either need to activate Developer Mode or to run Python as an administrator. In order to see activate developer mode, see this article: https://docs.microsoft.com/en-us/windows/apps/get-started/enable-your-device-for-development\n",
      "  warnings.warn(message)\n"
     ]
    }
   ],
   "source": [
    "import torch\n",
    "from transformers import AutoImageProcessor, AutoModel\n",
    "from PIL import Image\n",
    "import faiss\n",
    "import numpy as np\n",
    "import os\n",
    "\n",
    "#load the model and processor\n",
    "device = torch.device('cuda' if torch.cuda.is_available() else \"cpu\")\n",
    "print(f'Current Device: {device}')\n",
    "\n",
    "processor = AutoImageProcessor.from_pretrained('facebook/dinov2-small')\n",
    "model = AutoModel.from_pretrained('facebook/dinov2-small').to(device)\n",
    "data_folder = '../test_data'\n",
    "\n",
    "def add_vector_to_index(embedding, index):\n",
    "    vector = embedding.detach().cpu().numpy() #convert embedding to numpy\n",
    "    vector = np.float32(vector)\n",
    "    #Normalize vector: important to avoid wrong results when searching\n",
    "    faiss.normalize_L2(vector) \n",
    "    index.add(vector)\n",
    "\n",
    "#Populate the images variable with all the images in the dataset folder\n",
    "images = []\n",
    "for root, dirs, files in os.walk(data_folder):\n",
    "    for file in files:\n",
    "        if file.endswith(('jpg', 'png')):\n",
    "            images.append(root + '/' + file)\n",
    "\n",
    "#DINOv2_vits14 feature dim 是384维，所以建立dim=384的index, type是FlatL2\n",
    "index = faiss.IndexFlatL2(384)\n",
    "\n",
    "# t0 = time.time()\n",
    "for img_path in images:\n",
    "    img = Image.open(img_path).convert('RGB')\n",
    "    with torch.no_grad():\n",
    "        inputs = processor(images=img, return_tensors='pt').to(device)\n",
    "        outputs = model(**inputs)\n",
    "    features = outputs.last_hidden_state\n",
    "    add_vector_to_index(features.mean(dim=1), index)\n",
    "\n",
    "# print('Extraction done in: ', time.time() - t0)\n",
    "faiss.write_index(index, 'database.index')"
   ]
  },
  {
   "cell_type": "markdown",
   "metadata": {},
   "source": [
    "使用 dinov2 对单张图片进行检索"
   ]
  },
  {
   "cell_type": "code",
   "execution_count": 5,
   "metadata": {},
   "outputs": [
    {
     "name": "stdout",
     "output_type": "stream",
     "text": [
      "distances: [[0.         0.46195972 0.5801141 ]] indexes: [[3 1 2]]\n"
     ]
    }
   ],
   "source": [
    "#input image\n",
    "image = Image.open('../test_data/aerial/nardo-air_qu-42.png')\n",
    "query_idx = faiss.IndexFlatL2(384)\n",
    "\n",
    "#Extract the features\n",
    "with torch.no_grad():\n",
    "    inputs = processor(images=image, return_tensors=\"pt\").to(device)\n",
    "    outputs = model(**inputs)\n",
    "#Normalize the features before search\n",
    "embeddings = outputs.last_hidden_state\n",
    "embeddings = embeddings.mean(dim=1)\n",
    "# vector = add_vector_to_index(embeddings, query_idx)\n",
    "vector = embeddings.detach().cpu().numpy()\n",
    "vector = np.float32(vector)\n",
    "faiss.normalize_L2(vector)\n",
    "\n",
    "#Read the index file and perform search of top-3 images\n",
    "index = faiss.read_index(\"database.index\")\n",
    "dist, idx = index.search(vector, 3)\n",
    "print('distances:', dist, 'indexes:', idx)\n",
    "\n",
    "#images[[i][0][k]]为检索到的图片，k为0,1,2"
   ]
  },
  {
   "cell_type": "markdown",
   "metadata": {},
   "source": [
    "visualization code"
   ]
  },
  {
   "cell_type": "code",
   "execution_count": null,
   "metadata": {},
   "outputs": [],
   "source": []
  }
 ],
 "metadata": {
  "kernelspec": {
   "display_name": "myenv",
   "language": "python",
   "name": "python3"
  },
  "language_info": {
   "codemirror_mode": {
    "name": "ipython",
    "version": 3
   },
   "file_extension": ".py",
   "mimetype": "text/x-python",
   "name": "python",
   "nbconvert_exporter": "python",
   "pygments_lexer": "ipython3",
   "version": "3.10.14"
  }
 },
 "nbformat": 4,
 "nbformat_minor": 2
}
